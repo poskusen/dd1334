{
 "cells": [
  {
   "cell_type": "markdown",
   "metadata": {},
   "source": [
    "Laboration för kursen DD1334\n",
    "Använder SQL-lite för att kommunicera med en databas som sparar data från vårt projekt i kartgenerering"
   ]
  },
  {
   "cell_type": "markdown",
   "metadata": {},
   "source": [
    "Först måste vi hämta hem map klasser från github och installera dependencies"
   ]
  },
  {
   "cell_type": "code",
   "execution_count": 2,
   "metadata": {},
   "outputs": [
    {
     "name": "stdout",
     "output_type": "stream",
     "text": [
      "Defaulting to user installation because normal site-packages is not writeable\n"
     ]
    },
    {
     "name": "stderr",
     "output_type": "stream",
     "text": [
      "ERROR: Invalid requirement: '#fixa': Expected package name at the start of dependency specifier\n",
      "    #fixa\n",
      "    ^\n"
     ]
    },
    {
     "name": "stdout",
     "output_type": "stream",
     "text": [
      "Defaulting to user installation because normal site-packages is not writeable\n",
      "Requirement already satisfied: ipywidgets in c:\\users\\olleo\\appdata\\local\\packages\\pythonsoftwarefoundation.python.3.12_qbz5n2kfra8p0\\localcache\\local-packages\\python312\\site-packages (8.1.5)\n",
      "Requirement already satisfied: comm>=0.1.3 in c:\\users\\olleo\\appdata\\local\\packages\\pythonsoftwarefoundation.python.3.12_qbz5n2kfra8p0\\localcache\\local-packages\\python312\\site-packages (from ipywidgets) (0.2.2)\n",
      "Requirement already satisfied: ipython>=6.1.0 in c:\\users\\olleo\\appdata\\local\\packages\\pythonsoftwarefoundation.python.3.12_qbz5n2kfra8p0\\localcache\\local-packages\\python312\\site-packages (from ipywidgets) (8.28.0)\n",
      "Requirement already satisfied: traitlets>=4.3.1 in c:\\users\\olleo\\appdata\\local\\packages\\pythonsoftwarefoundation.python.3.12_qbz5n2kfra8p0\\localcache\\local-packages\\python312\\site-packages (from ipywidgets) (5.14.3)\n",
      "Requirement already satisfied: widgetsnbextension~=4.0.12 in c:\\users\\olleo\\appdata\\local\\packages\\pythonsoftwarefoundation.python.3.12_qbz5n2kfra8p0\\localcache\\local-packages\\python312\\site-packages (from ipywidgets) (4.0.13)\n",
      "Requirement already satisfied: jupyterlab-widgets~=3.0.12 in c:\\users\\olleo\\appdata\\local\\packages\\pythonsoftwarefoundation.python.3.12_qbz5n2kfra8p0\\localcache\\local-packages\\python312\\site-packages (from ipywidgets) (3.0.13)\n",
      "Requirement already satisfied: decorator in c:\\users\\olleo\\appdata\\local\\packages\\pythonsoftwarefoundation.python.3.12_qbz5n2kfra8p0\\localcache\\local-packages\\python312\\site-packages (from ipython>=6.1.0->ipywidgets) (5.1.1)\n",
      "Requirement already satisfied: jedi>=0.16 in c:\\users\\olleo\\appdata\\local\\packages\\pythonsoftwarefoundation.python.3.12_qbz5n2kfra8p0\\localcache\\local-packages\\python312\\site-packages (from ipython>=6.1.0->ipywidgets) (0.19.1)\n",
      "Requirement already satisfied: matplotlib-inline in c:\\users\\olleo\\appdata\\local\\packages\\pythonsoftwarefoundation.python.3.12_qbz5n2kfra8p0\\localcache\\local-packages\\python312\\site-packages (from ipython>=6.1.0->ipywidgets) (0.1.7)\n",
      "Requirement already satisfied: prompt-toolkit<3.1.0,>=3.0.41 in c:\\users\\olleo\\appdata\\local\\packages\\pythonsoftwarefoundation.python.3.12_qbz5n2kfra8p0\\localcache\\local-packages\\python312\\site-packages (from ipython>=6.1.0->ipywidgets) (3.0.48)\n",
      "Requirement already satisfied: pygments>=2.4.0 in c:\\users\\olleo\\appdata\\local\\packages\\pythonsoftwarefoundation.python.3.12_qbz5n2kfra8p0\\localcache\\local-packages\\python312\\site-packages (from ipython>=6.1.0->ipywidgets) (2.18.0)\n",
      "Requirement already satisfied: stack-data in c:\\users\\olleo\\appdata\\local\\packages\\pythonsoftwarefoundation.python.3.12_qbz5n2kfra8p0\\localcache\\local-packages\\python312\\site-packages (from ipython>=6.1.0->ipywidgets) (0.6.3)\n",
      "Requirement already satisfied: colorama in c:\\users\\olleo\\appdata\\local\\packages\\pythonsoftwarefoundation.python.3.12_qbz5n2kfra8p0\\localcache\\local-packages\\python312\\site-packages (from ipython>=6.1.0->ipywidgets) (0.4.6)\n",
      "Requirement already satisfied: parso<0.9.0,>=0.8.3 in c:\\users\\olleo\\appdata\\local\\packages\\pythonsoftwarefoundation.python.3.12_qbz5n2kfra8p0\\localcache\\local-packages\\python312\\site-packages (from jedi>=0.16->ipython>=6.1.0->ipywidgets) (0.8.4)\n",
      "Requirement already satisfied: wcwidth in c:\\users\\olleo\\appdata\\local\\packages\\pythonsoftwarefoundation.python.3.12_qbz5n2kfra8p0\\localcache\\local-packages\\python312\\site-packages (from prompt-toolkit<3.1.0,>=3.0.41->ipython>=6.1.0->ipywidgets) (0.2.13)\n",
      "Requirement already satisfied: executing>=1.2.0 in c:\\users\\olleo\\appdata\\local\\packages\\pythonsoftwarefoundation.python.3.12_qbz5n2kfra8p0\\localcache\\local-packages\\python312\\site-packages (from stack-data->ipython>=6.1.0->ipywidgets) (2.1.0)\n",
      "Requirement already satisfied: asttokens>=2.1.0 in c:\\users\\olleo\\appdata\\local\\packages\\pythonsoftwarefoundation.python.3.12_qbz5n2kfra8p0\\localcache\\local-packages\\python312\\site-packages (from stack-data->ipython>=6.1.0->ipywidgets) (2.4.1)\n",
      "Requirement already satisfied: pure-eval in c:\\users\\olleo\\appdata\\local\\packages\\pythonsoftwarefoundation.python.3.12_qbz5n2kfra8p0\\localcache\\local-packages\\python312\\site-packages (from stack-data->ipython>=6.1.0->ipywidgets) (0.2.3)\n",
      "Requirement already satisfied: six>=1.12.0 in c:\\users\\olleo\\appdata\\local\\packages\\pythonsoftwarefoundation.python.3.12_qbz5n2kfra8p0\\localcache\\local-packages\\python312\\site-packages (from asttokens>=2.1.0->stack-data->ipython>=6.1.0->ipywidgets) (1.16.0)\n",
      "Note: you may need to restart the kernel to use updated packages.\n"
     ]
    },
    {
     "name": "stderr",
     "output_type": "stream",
     "text": [
      "Cloning into 'dd1334'...\n",
      "Host key verification failed.\n",
      "fatal: Could not read from remote repository.\n",
      "\n",
      "Please make sure you have the correct access rights\n",
      "and the repository exists.\n"
     ]
    }
   ],
   "source": [
    "! pip install depend #fixa sen\n",
    "%pip install ipywidgets\n",
    "! git clone git@github.com:poskusen/dd1334.git"
   ]
  },
  {
   "cell_type": "markdown",
   "metadata": {},
   "source": [
    "Vi börjar med att generera en karta som ska sparas."
   ]
  },
  {
   "cell_type": "code",
   "execution_count": 3,
   "metadata": {},
   "outputs": [
    {
     "data": {
      "application/vnd.jupyter.widget-view+json": {
       "model_id": "dfd935b9102b4c598ea5f3367997c145",
       "version_major": 2,
       "version_minor": 0
      },
      "text/plain": [
       "Output()"
      ]
     },
     "metadata": {},
     "output_type": "display_data"
    }
   ],
   "source": [
    "from Classes.map import Map\n",
    "import ipywidgets as widgets\n",
    "from IPython.display import display, clear_output\n",
    "from draw_PNG import draw_map\n",
    "ny_karta = Map(5, 50, 0, 0 ,100, realm_name= 'test_karta') # Skapa en karta med bara byar\n",
    "\n",
    "draw_map(ny_karta)\n",
    "output = widgets.Output()\n",
    "with output: # Visa upp kartan\n",
    "    image = open(\"test_image.png\", \"rb\").read() \n",
    "    \n",
    "    image_widget = widgets.Image(\n",
    "        value=image,\n",
    "        format='png',\n",
    "        width=1000,            \n",
    "        height=1000\n",
    "    )\n",
    "    display(image_widget)\n",
    "display(output)\n"
   ]
  },
  {
   "cell_type": "markdown",
   "metadata": {},
   "source": [
    "Sen connectar vi till databasen och skapar ett nytt table för kartor, continenter och allt content på kontinenterna.\n",
    "\n",
    "Här uppstår ett stort problem som vi undviker genom att använda pickle.\n",
    "För att spara vår representation av kontinenten så måste vi spara en lista med punkter. Detta blir väldigt tricky då SQL databaser är baserade på att man sparar 1 värde och inte en lista med värden. Något vi undviker när vi bara serialiserar hela objektet. \n",
    "En lösning hade varit skapa ett table per lista och därmed en per kontinent, men det är väldigt bökigt och förstör hela poängen med databasen. Och eftersom vi aldrig vill ha enbart en eller flera punkter från kontinent-listan finns det ingen poäng med att skapa ett helt nytt table, då vi aldrig hämtar enskilda värden från listan. Därför kan man se listan snarare som ett objekt, än en lista. Därför serialiserar vi listan och sparar den sen, allt annat hade varit galenskap.\n",
    "\n",
    "För att ändå visa att det går gör vi det för städerna.\n",
    "Vi sparar även bara städerna för floder och berg hade inneburit dubbelarbete, och visar egentligen ingenting.\n",
    "\n",
    "Den enda fördelen med att köra sql är att det går att hämta kontinenter med rätt 'size' från databasen, dvs att jämföra storleken på serilizationen av points_list."
   ]
  },
  {
   "cell_type": "code",
   "execution_count": 28,
   "metadata": {},
   "outputs": [
    {
     "data": {
      "text/plain": [
       "<sqlite3.Cursor at 0x1c89fb79dc0>"
      ]
     },
     "execution_count": 28,
     "metadata": {},
     "output_type": "execute_result"
    }
   ],
   "source": [
    "import sqlite3, csv\n",
    "\n",
    "conn = sqlite3.connect('database.db')\n",
    "cursor = conn.cursor()\n",
    "cursor.execute('PRAGMA foreign_keys = OFF;')\n",
    "\n",
    "tables = ['maps', 'continents', 'villages']\n",
    "for table in tables:\n",
    "    cursor.execute(f\"DROP TABLE IF EXISTS {table}\")\n",
    "\n",
    "cursor.execute('PRAGMA foreign_keys = ON;')\n",
    "\n",
    "cursor.execute('''CREATE TABLE maps(\n",
    "               id INTEGER PRIMARY KEY AUTOINCREMENT,\n",
    "               map_size_x INT DEFAULT 1000,\n",
    "               map_size_y INT DEFAULT 1000,\n",
    "               name VARCHAR(255) NOT NULL,\n",
    "               amount_continents INTEGER NOT NULL\n",
    "               );''') # Skapa ett table för kartor\n",
    "\n",
    "cursor.execute('''CREATE TABLE continents(\n",
    "                id INTEGER PRIMARY KEY AUTOINCREMENT,\n",
    "                points_serialised VARCHAR(65535),\n",
    "                id_map INTEGER NOT NULL,\n",
    "                FOREIGN KEY (id_map) REFERENCES maps(id)\n",
    "               );''') # Skapa ett table för kontintenter\n",
    "\n",
    "\n",
    "cursor.execute('''CREATE TABLE villages(\n",
    "                id INTEGER PRIMARY KEY AUTOINCREMENT,\n",
    "                x INT NOT NULL,\n",
    "                y INT NOT NULL,\n",
    "                id_cont INTEGER NOT NULL,\n",
    "                FOREIGN KEY (id_cont) REFERENCES continents(id)\n",
    "               );''') # Skapa ett table för byar\n",
    "\n"
   ]
  },
  {
   "cell_type": "markdown",
   "metadata": {},
   "source": [
    "Stäng databas om det behövs"
   ]
  },
  {
   "cell_type": "code",
   "execution_count": 11,
   "metadata": {},
   "outputs": [],
   "source": [
    "conn.close()"
   ]
  },
  {
   "cell_type": "markdown",
   "metadata": {},
   "source": [
    "Skapa en enkel serialiserings algoritm som kan spara listor och en som kan återskapa innehållet och göra det till en lista"
   ]
  },
  {
   "cell_type": "code",
   "execution_count": 33,
   "metadata": {},
   "outputs": [],
   "source": [
    "def stringify(continent_list):\n",
    "    ser = ''\n",
    "    for point in continent_list:\n",
    "        str_point = str(point)\n",
    "        str_point = str_point.strip('()')\n",
    "        str_point = str_point.replace(' ','')\n",
    "        ser +=  str_point + ','\n",
    "    return ser\n",
    "\n",
    "    \n",
    "\n",
    "def unstringify(string):\n",
    "    # Assume `string` is a serialized representation of coordinates, e.g., '522.92,304.12'\n",
    "    lista_nummer = string.split(',')  # or however your data is structured\n",
    "    continent_list = []\n",
    "    for num in lista_nummer:\n",
    "        # Convert to float, then to int if needed\n",
    "        continent_list.append((float(num), float(num)))  # Adjust based on actual data structure\n",
    "    return continent_list\n",
    "\n",
    "\n"
   ]
  },
  {
   "cell_type": "markdown",
   "metadata": {},
   "source": [
    "Skapa funktion som extraherar kontinenter, karta och byar och serialisera kontinent_listorna samt lägger till dem och kartan i databasen"
   ]
  },
  {
   "cell_type": "code",
   "execution_count": 8,
   "metadata": {},
   "outputs": [],
   "source": [
    "def save(map, cursor):\n",
    "    amount_continents = map.get_continent_amount()\n",
    "    name_map = map.get_realm_name()\n",
    "    (x_size, y_size) = map.get_mapsize()\n",
    "    cursor.execute('''INSERT INTO maps (map_size_x, map_size_y, name, amount_continents)\n",
    "                    VALUES(?,?,?,?);\n",
    "                   ''', (x_size, y_size, name_map, amount_continents))\n",
    "    continents = map.get_continents()\n",
    "    map_id = cursor.lastrowid\n",
    "    for cont in continents:\n",
    "        points_list = cont.get_point_list()\n",
    "        ser_points = stringify(points_list)\n",
    "        cursor.execute('''INSERT INTO continents (points_serialised, id_map)\n",
    "                    VALUES(?,?);\n",
    "                    ''', (ser_points, map_id))\n",
    "        villages = cont.get_villages().get_cities_list()\n",
    "        cont_id = cursor.lastrowid\n",
    "        for village in villages:\n",
    "            cursor.execute('''INSERT INTO villages (x, y, id_cont)\n",
    "                        VALUES(?,?,?);\n",
    "                           ''', (village[0], village[1], cont_id))"
   ]
  },
  {
   "cell_type": "markdown",
   "metadata": {},
   "source": [
    "Testa att spara ner en karta"
   ]
  },
  {
   "cell_type": "code",
   "execution_count": 29,
   "metadata": {},
   "outputs": [
    {
     "name": "stdout",
     "output_type": "stream",
     "text": [
      "Continents in the database:\n",
      "(1, '522.9213017883802,533.7540862496758,567.6765164764042,508.52186074800625,612.1238923223633,520.590110568096,612.9646525512414,521.6002786181066,622.4609846212504,570.4214785482291,655.9702446348869,606.083069538771,669.7130571734431,611.4197335478192,672.9933695775584,614.1178513212004,674.3234634737015,621.2461862607593,661.4397004915628,639.5883282020462,627.2362342854866,658.7355529481905,576.2977992613008,675.5996038093878,553.6305622775233,688.1414192132128,547.5219734087093,689.9684856842662,495.7514429802953,697.5909198453178,485.10118655072847,691.8828096098579,475.6723762550537,683.3588232907082,451.7843090599535,651.0273505512021,434.1952404583692,646.0471947084444,427.3397077198898,641.4413340123821,415.91990935279676,616.6341988216142,445.12017701913663,580.3609311241789,474.1236201426405,549.6582480063789,522.9213017883802,533.7540862496758,', 1)\n",
      "(2, '647.191885848544,380.76706512651197,669.4288905542091,431.4025578047939,650.2338770101844,437.8265852148513,701.9621554617984,425.5640061172239,726.2170453379888,430.67432095370316,759.3218964275532,463.5894778014339,774.658842017328,473.7640301937091,777.2788751438588,531.0263899161629,796.2281214453831,485.93246380779465,796.2895159679736,496.1691221399128,802.7774744343922,474.6447186970604,825.8296540666083,441.7791616052664,827.1505771579045,440.9978176694234,843.1709636779563,460.3073076824321,811.2555127294538,416.44416819015885,790.3559171041732,372.787180134747,802.5542356231697,355.80867286132695,766.5438616786234,334.4794158083074,790.8020833245405,318.2905025934007,747.7920520579805,309.4215968155502,720.4832368994146,296.0714037908506,696.9204946054706,261.7178867404117,687.2861471399128,244.63082627524201,687.070767069705,237.60186525890893,731.5374301014765,215.64312577346,715.5535725641646,165.4913156331423,744.1174066296398,150.53617004653998,716.0476032883489,163.37598323175834,713.0140456955123,164.61290741964243,669.4353609579932,173.44801275488285,664.9031638313124,174.03249325177782,617.6383780702956,163.15331089039753,613.322293119799,127.89073422736891,588.0011818650905,154.83450274327734,612.0942596737384,168.28309973293491,660.8171993127555,183.5260258714671,666.870920813099,234.54906035706742,669.7090858345225,267.84049427663774,671.3746665772794,275.67584861468606,680.8801926091742,307.92627824304543,649.9819999010535,352.71716714655133,647.191885848544,380.76706512651197,', 1)\n",
      "(3, '298.64884071069093,609.515000307198,264.404691846505,647.9351290906867,240.06603294423016,694.2002834751249,211.49841468822055,709.8651105295029,178.50038187638214,699.4493760618493,160.70463176185424,697.1493851747805,145.87005348564034,690.1575662496534,131.78486710153734,658.4046026933528,114.76088384618194,684.0246226201432,113.22073402738872,690.9662402843352,97.61537311018546,706.1547207236154,80.80879601896444,718.0576625075626,83.0853585567991,695.1519721685958,76.24754830862096,724.4786999248269,67.5976369753694,744.3793448830273,60.83298341721152,756.991911880994,31.609292270250336,787.7953755328114,16.013691865764116,786.3722256528156,4.550552956228984,763.4662462682833,-0.8822813652123784,711.8685461731823,-0.4655444052153541,707.1315252722546,4.921951444214443,696.2338535452279,25.55867283814044,671.4575318142441,51.39826545973207,660.470670193157,77.94269578795499,651.304175185536,90.45866152171348,650.0450279369547,125.87606626423403,653.2782202871073,132.28280037589414,653.002917572163,174.36891614701798,637.5567050811516,198.72412094476542,638.5423122573128,251.60851944356497,635.6096100997515,298.64884071069093,609.515000307198,', 1)\n",
      "(4, '399.59465091713014,501.777785197106,423.9761167163796,548.0701019648202,420.93736493290965,569.2203329141838,398.7743751474235,580.4426687555167,362.4574213097703,600.6804757808176,324.13850648798746,585.6929200931104,320.3037039770518,581.6137782186389,320.2682399615089,580.2613874899729,339.919543029633,554.4181063804944,372.4959334427077,527.7406838131798,390.1241526561331,523.4227076563883,440.32378748278643,515.1002012711882,469.1737891832122,525.2995640516356,479.67320783358707,531.0865597721577,492.0583838429634,537.9110394394478,476.2780685463646,549.1620006090172,493.62110067774165,558.5207129093868,500.3716077134785,512.1886835320498,501.9607048490634,507.6011889493459,502.02102066549355,490.8562700026205,503.33996565548057,488.7964026944579,496.6413897700851,491.013339359493,472.9804773364026,486.3174188018727,425.7389328233735,489.4220868810087,399.59465091713014,501.777785197106,', 1)\n",
      "(5, '566.1962574301004,519.412738787207,525.9908233004708,475.61218500711976,517.1358288613444,458.36877924716595,471.0432865348564,469.9851860206,455.9791841331322,462.9182236119091,455.4325133474256,461.8749073137835,455.33868849560315,460.9940365287319,475.28724573086515,424.7897680508366,498.3916502107753,390.4612587741347,529.122225255258,371.99632250551423,548.3986821635999,363.90858303243215,558.3841418073108,358.2845279598011,590.6342036128797,349.66315244939153,613.9944121203116,353.20462137795636,618.0450608415136,352.40324125439713,635.250885170769,362.28855688817725,642.7352746223263,373.09888450046526,643.8647920950441,408.57825831689274,639.9840047680296,413.9968004162906,609.7271246407108,438.2026630683793,583.6227424335578,458.39461101434006,551.5097599129577,475.9472004978119,566.1962574301004,519.412738787207,', 1)\n"
     ]
    }
   ],
   "source": [
    "\n",
    "save(ny_karta, cursor)\n",
    "conn.commit()\n",
    "cursor.execute(\"SELECT * FROM continents\")\n",
    "continents = cursor.fetchall()\n",
    "print(\"Continents in the database:\")\n",
    "for row in continents:\n",
    "    print(row)"
   ]
  },
  {
   "cell_type": "markdown",
   "metadata": {},
   "source": [
    "Skapa en funktion som hämtar upp en karta och återskapar kartan"
   ]
  },
  {
   "cell_type": "code",
   "execution_count": 10,
   "metadata": {},
   "outputs": [
    {
     "ename": "IndentationError",
     "evalue": "expected an indented block after 'for' statement on line 14 (1842703738.py, line 17)",
     "output_type": "error",
     "traceback": [
      "\u001b[1;36m  Cell \u001b[1;32mIn[10], line 17\u001b[1;36m\u001b[0m\n\u001b[1;33m    return Map(amount_continents, 100, 0, 0, 50, (data[1], data[2]), data[3], create_new=False, ) #Återskapa kartan\u001b[0m\n\u001b[1;37m    ^\u001b[0m\n\u001b[1;31mIndentationError\u001b[0m\u001b[1;31m:\u001b[0m expected an indented block after 'for' statement on line 14\n"
     ]
    }
   ],
   "source": [
    "def load(karta_id, cursor): \n",
    "    cursor.execute('''SELECT * FROM maps\n",
    "                JOIN continents ON maps.id = continents.id_map\n",
    "                JOIN villages ON continents.id = villages.id_cont\n",
    "                WHERE maps.id = ?\n",
    "                ;\n",
    "                ''', (karta_id, )) #Hämta alla kartan med karta_id\n",
    "    \n",
    "    data = cursor.fetchall()\n",
    "    amount_continents = data[4]\n",
    "    list_continents = []\n",
    "    for i in range(0, amount_continents): #Hämta kontinenterna\n",
    "        list_continents.append(unstringify(data[6 + i])) #Avserilisera kontinenterna\n",
    "    for i in range(6 + amount_continents, len(data)): #Hämta kontinenter\n",
    "\n",
    "    \n",
    "    return Map(amount_continents, 100, 0, 0, 50, (data[1], data[2]), data[3], create_new=False, ) #Återskapa kartan\n",
    "print(load(3, cursor))\n",
    "\n",
    "\n"
   ]
  },
  {
   "cell_type": "markdown",
   "metadata": {},
   "source": [
    "Testa att spara och hämta en karta"
   ]
  },
  {
   "cell_type": "code",
   "execution_count": 34,
   "metadata": {},
   "outputs": [
    {
     "name": "stdout",
     "output_type": "stream",
     "text": [
      "HELLO\n",
      "[(522.3364368413961, 550.8612128152554), (524.490405794306, 553.1072061196818), (475.4171974518249, 611.2837087944), (506.7932467803135, 670.5656621798549), (632.1310794877373, 619.7281482742626), (608.5977387390459, 523.3828084526099), (451.42042861747024, 650.2303707407643), (661.4397004915628, 639.5883282020462), (485.10118655072847, 691.8828096098579), (522.9213017883802, 533.7540862496758), (475.6723762550537, 683.3588232907082), (655.9702446348869, 606.083069538771), (576.2977992613008, 675.5996038093878), (474.1236201426405, 549.6582480063789)]\n"
     ]
    },
    {
     "ename": "AttributeError",
     "evalue": "'Continent' object has no attribute 'villages'",
     "output_type": "error",
     "traceback": [
      "\u001b[1;31m---------------------------------------------------------------------------\u001b[0m",
      "\u001b[1;31mAttributeError\u001b[0m                            Traceback (most recent call last)",
      "Cell \u001b[1;32mIn[34], line 47\u001b[0m\n\u001b[0;32m     43\u001b[0m         \u001b[38;5;66;03m#continent_list.append(temp_cont)\u001b[39;00m\n\u001b[0;32m     45\u001b[0m         \u001b[38;5;28mprint\u001b[39m(temp_cont\u001b[38;5;241m.\u001b[39mvillages)\n\u001b[1;32m---> 47\u001b[0m \u001b[43mload\u001b[49m\u001b[43m(\u001b[49m\u001b[38;5;241;43m1\u001b[39;49m\u001b[43m,\u001b[49m\u001b[43m \u001b[49m\u001b[43mcursor\u001b[49m\u001b[43m)\u001b[49m\n",
      "Cell \u001b[1;32mIn[34], line 45\u001b[0m, in \u001b[0;36mload\u001b[1;34m(karta_id, cursor)\u001b[0m\n\u001b[0;32m     42\u001b[0m \u001b[38;5;28mprint\u001b[39m(villages_lists[i])\n\u001b[0;32m     43\u001b[0m \u001b[38;5;66;03m#continent_list.append(temp_cont)\u001b[39;00m\n\u001b[1;32m---> 45\u001b[0m \u001b[38;5;28mprint\u001b[39m(\u001b[43mtemp_cont\u001b[49m\u001b[38;5;241;43m.\u001b[39;49m\u001b[43mvillages\u001b[49m)\n",
      "\u001b[1;31mAttributeError\u001b[0m: 'Continent' object has no attribute 'villages'"
     ]
    }
   ],
   "source": [
    "from Classes.continent import Continent\n",
    "\n",
    "#Olle load\n",
    "def load(karta_id, cursor): \n",
    "    continent_cords_list = [] #Every position is a list with all the continents positions\n",
    "    villages_lists = []\n",
    "\n",
    "    cursor.execute('''SELECT COUNT(*) \n",
    "                      FROM continents \n",
    "                      WHERE id_map = ?;''', (karta_id,))\n",
    "    number_of_continents = cursor.fetchone()[0]  # Count of continents\n",
    "    \n",
    "    cursor.execute('''SELECT * \n",
    "                  FROM continents \n",
    "                  WHERE id_map = ?;''', (karta_id,))#Get all continents\n",
    "    \n",
    "    continents = cursor.fetchall()\n",
    "\n",
    "    for row in continents:\n",
    "        continent_cords_list.append(unstringify(row[1]))  #Now we have all continent cordinates \n",
    "\n",
    "    for continent_id in range (1, number_of_continents+1):\n",
    "        temp_list = []\n",
    "\n",
    "        cursor.execute('''SELECT * \n",
    "                      FROM villages \n",
    "                      WHERE id_cont = ?;''', (continent_id,))\n",
    "        villages = cursor.fetchall()\n",
    "        for rows in villages:\n",
    "            x = rows[1]\n",
    "            y = rows[2]\n",
    "            xy = (x,y)\n",
    "            temp_list.append(xy)\n",
    "        villages_lists.append(temp_list)\n",
    "\n",
    "    #Now make continent list containing actual continent instances\n",
    "    continent_list = []\n",
    "    for i in range (number_of_continents):\n",
    "\n",
    "        temp_cont = Continent((1000,1000), 0, 0, 0 , 0, point_list = continent_cords_list[i], content = [None, villages_lists[i]])\n",
    "        print(\"HELLO\")\n",
    "        print(villages_lists[i])\n",
    "        #continent_list.append(temp_cont)\n",
    "\n",
    "        print(temp_cont.villages)\n",
    "\n",
    "load(1, cursor)"
   ]
  },
  {
   "cell_type": "markdown",
   "metadata": {},
   "source": [
    "Testa att spara och hämta flera kartor"
   ]
  }
 ],
 "metadata": {
  "kernelspec": {
   "display_name": "Python 3",
   "language": "python",
   "name": "python3"
  },
  "language_info": {
   "codemirror_mode": {
    "name": "ipython",
    "version": 3
   },
   "file_extension": ".py",
   "mimetype": "text/x-python",
   "name": "python",
   "nbconvert_exporter": "python",
   "pygments_lexer": "ipython3",
   "version": "3.12.4"
  }
 },
 "nbformat": 4,
 "nbformat_minor": 2
}
