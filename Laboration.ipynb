{
 "cells": [
  {
   "cell_type": "markdown",
   "metadata": {},
   "source": [
    "Laboration för kursen DD1334\n",
    "Använder SQL-lite för att kommunicera med en databas som sparar data från vårt projekt i kartgenerering"
   ]
  },
  {
   "cell_type": "markdown",
   "metadata": {},
   "source": [
    "Först måste vi hämta hem map klasser från github och installera dependencies"
   ]
  },
  {
   "cell_type": "code",
   "execution_count": 35,
   "metadata": {},
   "outputs": [
    {
     "name": "stdout",
     "output_type": "stream",
     "text": [
      "Defaulting to user installation because normal site-packages is not writeable\n"
     ]
    },
    {
     "name": "stderr",
     "output_type": "stream",
     "text": [
      "ERROR: Invalid requirement: '#fixa': Expected package name at the start of dependency specifier\n",
      "    #fixa\n",
      "    ^\n"
     ]
    },
    {
     "name": "stdout",
     "output_type": "stream",
     "text": [
      "Defaulting to user installation because normal site-packages is not writeable\n",
      "Requirement already satisfied: ipywidgets in c:\\users\\olleo\\appdata\\local\\packages\\pythonsoftwarefoundation.python.3.12_qbz5n2kfra8p0\\localcache\\local-packages\\python312\\site-packages (8.1.5)\n",
      "Requirement already satisfied: comm>=0.1.3 in c:\\users\\olleo\\appdata\\local\\packages\\pythonsoftwarefoundation.python.3.12_qbz5n2kfra8p0\\localcache\\local-packages\\python312\\site-packages (from ipywidgets) (0.2.2)\n",
      "Requirement already satisfied: ipython>=6.1.0 in c:\\users\\olleo\\appdata\\local\\packages\\pythonsoftwarefoundation.python.3.12_qbz5n2kfra8p0\\localcache\\local-packages\\python312\\site-packages (from ipywidgets) (8.28.0)\n",
      "Requirement already satisfied: traitlets>=4.3.1 in c:\\users\\olleo\\appdata\\local\\packages\\pythonsoftwarefoundation.python.3.12_qbz5n2kfra8p0\\localcache\\local-packages\\python312\\site-packages (from ipywidgets) (5.14.3)\n",
      "Requirement already satisfied: widgetsnbextension~=4.0.12 in c:\\users\\olleo\\appdata\\local\\packages\\pythonsoftwarefoundation.python.3.12_qbz5n2kfra8p0\\localcache\\local-packages\\python312\\site-packages (from ipywidgets) (4.0.13)\n",
      "Requirement already satisfied: jupyterlab-widgets~=3.0.12 in c:\\users\\olleo\\appdata\\local\\packages\\pythonsoftwarefoundation.python.3.12_qbz5n2kfra8p0\\localcache\\local-packages\\python312\\site-packages (from ipywidgets) (3.0.13)\n",
      "Requirement already satisfied: decorator in c:\\users\\olleo\\appdata\\local\\packages\\pythonsoftwarefoundation.python.3.12_qbz5n2kfra8p0\\localcache\\local-packages\\python312\\site-packages (from ipython>=6.1.0->ipywidgets) (5.1.1)\n",
      "Requirement already satisfied: jedi>=0.16 in c:\\users\\olleo\\appdata\\local\\packages\\pythonsoftwarefoundation.python.3.12_qbz5n2kfra8p0\\localcache\\local-packages\\python312\\site-packages (from ipython>=6.1.0->ipywidgets) (0.19.1)\n",
      "Requirement already satisfied: matplotlib-inline in c:\\users\\olleo\\appdata\\local\\packages\\pythonsoftwarefoundation.python.3.12_qbz5n2kfra8p0\\localcache\\local-packages\\python312\\site-packages (from ipython>=6.1.0->ipywidgets) (0.1.7)\n",
      "Requirement already satisfied: prompt-toolkit<3.1.0,>=3.0.41 in c:\\users\\olleo\\appdata\\local\\packages\\pythonsoftwarefoundation.python.3.12_qbz5n2kfra8p0\\localcache\\local-packages\\python312\\site-packages (from ipython>=6.1.0->ipywidgets) (3.0.48)\n",
      "Requirement already satisfied: pygments>=2.4.0 in c:\\users\\olleo\\appdata\\local\\packages\\pythonsoftwarefoundation.python.3.12_qbz5n2kfra8p0\\localcache\\local-packages\\python312\\site-packages (from ipython>=6.1.0->ipywidgets) (2.18.0)\n",
      "Requirement already satisfied: stack-data in c:\\users\\olleo\\appdata\\local\\packages\\pythonsoftwarefoundation.python.3.12_qbz5n2kfra8p0\\localcache\\local-packages\\python312\\site-packages (from ipython>=6.1.0->ipywidgets) (0.6.3)\n",
      "Requirement already satisfied: colorama in c:\\users\\olleo\\appdata\\local\\packages\\pythonsoftwarefoundation.python.3.12_qbz5n2kfra8p0\\localcache\\local-packages\\python312\\site-packages (from ipython>=6.1.0->ipywidgets) (0.4.6)\n",
      "Requirement already satisfied: parso<0.9.0,>=0.8.3 in c:\\users\\olleo\\appdata\\local\\packages\\pythonsoftwarefoundation.python.3.12_qbz5n2kfra8p0\\localcache\\local-packages\\python312\\site-packages (from jedi>=0.16->ipython>=6.1.0->ipywidgets) (0.8.4)\n",
      "Requirement already satisfied: wcwidth in c:\\users\\olleo\\appdata\\local\\packages\\pythonsoftwarefoundation.python.3.12_qbz5n2kfra8p0\\localcache\\local-packages\\python312\\site-packages (from prompt-toolkit<3.1.0,>=3.0.41->ipython>=6.1.0->ipywidgets) (0.2.13)\n",
      "Requirement already satisfied: executing>=1.2.0 in c:\\users\\olleo\\appdata\\local\\packages\\pythonsoftwarefoundation.python.3.12_qbz5n2kfra8p0\\localcache\\local-packages\\python312\\site-packages (from stack-data->ipython>=6.1.0->ipywidgets) (2.1.0)\n",
      "Requirement already satisfied: asttokens>=2.1.0 in c:\\users\\olleo\\appdata\\local\\packages\\pythonsoftwarefoundation.python.3.12_qbz5n2kfra8p0\\localcache\\local-packages\\python312\\site-packages (from stack-data->ipython>=6.1.0->ipywidgets) (2.4.1)\n",
      "Requirement already satisfied: pure-eval in c:\\users\\olleo\\appdata\\local\\packages\\pythonsoftwarefoundation.python.3.12_qbz5n2kfra8p0\\localcache\\local-packages\\python312\\site-packages (from stack-data->ipython>=6.1.0->ipywidgets) (0.2.3)\n",
      "Requirement already satisfied: six>=1.12.0 in c:\\users\\olleo\\appdata\\local\\packages\\pythonsoftwarefoundation.python.3.12_qbz5n2kfra8p0\\localcache\\local-packages\\python312\\site-packages (from asttokens>=2.1.0->stack-data->ipython>=6.1.0->ipywidgets) (1.16.0)\n",
      "Note: you may need to restart the kernel to use updated packages.\n"
     ]
    },
    {
     "name": "stderr",
     "output_type": "stream",
     "text": [
      "Cloning into 'dd1334'...\n",
      "Host key verification failed.\n",
      "fatal: Could not read from remote repository.\n",
      "\n",
      "Please make sure you have the correct access rights\n",
      "and the repository exists.\n"
     ]
    }
   ],
   "source": [
    "! pip install depend #fixa sen\n",
    "%pip install ipywidgets\n",
    "! git clone git@github.com:poskusen/dd1334.git"
   ]
  },
  {
   "cell_type": "markdown",
   "metadata": {},
   "source": [
    "Vi börjar med att generera en karta som ska sparas."
   ]
  },
  {
   "cell_type": "code",
   "execution_count": 43,
   "metadata": {},
   "outputs": [
    {
     "data": {
      "application/vnd.jupyter.widget-view+json": {
       "model_id": "86b52d5156dc46118a15bddd570c9a4a",
       "version_major": 2,
       "version_minor": 0
      },
      "text/plain": [
       "Output()"
      ]
     },
     "metadata": {},
     "output_type": "display_data"
    }
   ],
   "source": [
    "from Classes.map import Map\n",
    "import ipywidgets as widgets\n",
    "from IPython.display import display, clear_output\n",
    "from draw_PNG import draw_map\n",
    "ny_karta = Map(1, 50, 0, 0 ,100, realm_name= 'Generated_Map') # Skapa en karta med bara byar\n",
    "\n",
    "draw_map(ny_karta)\n",
    "output = widgets.Output()\n",
    "with output: # Visa upp kartan\n",
    "    image = open(\"test_image.png\", \"rb\").read() \n",
    "    \n",
    "    image_widget = widgets.Image(\n",
    "        value=image,\n",
    "        format='png',\n",
    "        width=1000,            \n",
    "        height=1000\n",
    "    )\n",
    "    display(image_widget)\n",
    "display(output)\n"
   ]
  },
  {
   "cell_type": "markdown",
   "metadata": {},
   "source": [
    "Sen connectar vi till databasen och skapar ett nytt table för kartor, continenter och allt content på kontinenterna.\n",
    "\n",
    "Här uppstår ett stort problem som vi undviker genom att använda pickle.\n",
    "För att spara vår representation av kontinenten så måste vi spara en lista med punkter. Detta blir väldigt tricky då SQL databaser är baserade på att man sparar 1 värde och inte en lista med värden. Något vi undviker när vi bara serialiserar hela objektet. \n",
    "En lösning hade varit skapa ett table per lista och därmed en per kontinent, men det är väldigt bökigt och förstör hela poängen med databasen. Och eftersom vi aldrig vill ha enbart en eller flera punkter från kontinent-listan finns det ingen poäng med att skapa ett helt nytt table, då vi aldrig hämtar enskilda värden från listan. Därför kan man se listan snarare som ett objekt, än en lista. Därför serialiserar vi listan och sparar den sen, allt annat hade varit galenskap.\n",
    "\n",
    "För att ändå visa att det går gör vi det för städerna.\n",
    "Vi sparar även bara städerna för floder och berg hade inneburit dubbelarbete, och visar egentligen ingenting.\n",
    "\n",
    "Den enda fördelen med att köra sql är att det går att hämta kontinenter med rätt 'size' från databasen, dvs att jämföra storleken på serilizationen av points_list."
   ]
  },
  {
   "cell_type": "code",
   "execution_count": 45,
   "metadata": {},
   "outputs": [],
   "source": [
    "import sqlite3, csv\n",
    "\n",
    "conn = sqlite3.connect('database.db')\n",
    "cursor = conn.cursor()\n",
    "cursor.execute('PRAGMA foreign_keys = OFF;')\n",
    "\n",
    "taboles = ['maps', 'continents', 'villages']\n",
    "for table in taboles:\n",
    "    cursor.execute(f\"DROP TABLE IF EXISTS {table}\") #Reset or drop all before filled out tables\n",
    "\n",
    "\n",
    "cursor.execute('PRAGMA foreign_keys = ON;')\n",
    "\n",
    "cursor.execute('''CREATE TABLE maps(\n",
    "               id INTEGER PRIMARY KEY AUTOINCREMENT,\n",
    "               map_size_x INT DEFAULT 1000,\n",
    "               map_size_y INT DEFAULT 1000,\n",
    "               name VARCHAR(255) NOT NULL,\n",
    "               amount_continents INTEGER NOT NULL\n",
    "               );''') # Skapa ett table för kartor\n",
    "\n",
    "cursor.execute('''CREATE TABLE continents(\n",
    "                id INTEGER PRIMARY KEY AUTOINCREMENT,\n",
    "                points_serialised VARCHAR(65535),\n",
    "                id_map INTEGER NOT NULL,\n",
    "                FOREIGN KEY (id_map) REFERENCES maps(id)\n",
    "               );''') # Skapa ett table för kontintenter\n",
    "\n",
    "\n",
    "cursor.execute('''CREATE TABLE villages(\n",
    "                id INTEGER PRIMARY KEY AUTOINCREMENT,\n",
    "                x INT NOT NULL,\n",
    "                y INT NOT NULL,\n",
    "                id_cont INTEGER NOT NULL,\n",
    "                FOREIGN KEY (id_cont) REFERENCES continents(id)\n",
    "               );''') # Skapa ett table för byar\n",
    "\n",
    "conn.commit()"
   ]
  },
  {
   "cell_type": "code",
   "execution_count": 40,
   "metadata": {},
   "outputs": [],
   "source": []
  },
  {
   "cell_type": "markdown",
   "metadata": {},
   "source": [
    "Stäng databas om det behövs"
   ]
  },
  {
   "cell_type": "code",
   "execution_count": 5,
   "metadata": {},
   "outputs": [],
   "source": [
    "conn.close()"
   ]
  },
  {
   "cell_type": "markdown",
   "metadata": {},
   "source": [
    "Skapa en enkel serialiserings algoritm som kan spara listor och en som kan återskapa innehållet och göra det till en lista"
   ]
  },
  {
   "cell_type": "code",
   "execution_count": 46,
   "metadata": {},
   "outputs": [
    {
     "name": "stdout",
     "output_type": "stream",
     "text": [
      "5,5,6,6,7,7,\n",
      "['5', '5', '6', '6', '7', '7', '']\n",
      "[(5.0, 5.0), (6.0, 6.0), (7.0, 7.0)]\n"
     ]
    }
   ],
   "source": [
    "def stringify(continent_list):\n",
    "    ser = ''\n",
    "    for point in continent_list:\n",
    "        str_point = str(point)\n",
    "        str_point = str_point.strip('()')\n",
    "        str_point = str_point.replace(' ','')\n",
    "        ser +=  str_point + ','\n",
    "    return ser\n",
    "\n",
    "    \n",
    "\n",
    "def unstringify(ser_cont):\n",
    "    continent_list = []\n",
    "    lista_nummer = ser_cont.split(',')  # Split the serialized string by commas\n",
    "    print(lista_nummer)  # For debugging, you can remove this in production\n",
    "\n",
    "    # Iterate through pairs of numbers (assuming each pair represents x, y coordinates)\n",
    "    for i in range(0, len(lista_nummer) - 1, 2):\n",
    "        # Convert the string representation of the numbers to floats\n",
    "        continent_list.append((float(lista_nummer[i]), float(lista_nummer[i + 1])))\n",
    "\n",
    "    return continent_list\n",
    "\n",
    "\n",
    "lista = [(5,5), (6,6), (7,7)] # Testa funktionerna\n",
    "string_lista = stringify(lista)\n",
    "print(string_lista)\n",
    "print(unstringify(string_lista))\n"
   ]
  },
  {
   "cell_type": "markdown",
   "metadata": {},
   "source": [
    "Skapa funktion som extraherar kontinenter, karta och byar och serialisera kontinent_listorna samt lägger till dem och kartan i databasen"
   ]
  },
  {
   "cell_type": "code",
   "execution_count": 47,
   "metadata": {},
   "outputs": [],
   "source": [
    "def save(map, cursor):\n",
    "    amount_continents = map.get_continent_amount()\n",
    "    name_map = map.get_realm_name()\n",
    "    (x_size, y_size) = map.get_mapsize()\n",
    "    cursor.execute('''INSERT INTO maps (map_size_x, map_size_y, name, amount_continents)\n",
    "                    VALUES(?,?,?,?);\n",
    "                   ''', (x_size, y_size, name_map, amount_continents))\n",
    "    continents = map.get_continents()\n",
    "    map_id = cursor.lastrowid\n",
    "    for cont in continents:\n",
    "        points_list = cont.get_point_list()\n",
    "        ser_points = stringify(points_list)\n",
    "        cursor.execute('''INSERT INTO continents (points_serialised, id_map)\n",
    "                    VALUES(?,?);\n",
    "                    ''', (ser_points, map_id))\n",
    "        villages = cont.get_villages().get_cities_list()\n",
    "        cont_id = cursor.lastrowid\n",
    "        for village in villages:\n",
    "            cursor.execute('''INSERT INTO villages (x, y, id_cont)\n",
    "                        VALUES(?,?,?);\n",
    "                           ''', (village[0], village[1], cont_id))"
   ]
  },
  {
   "cell_type": "markdown",
   "metadata": {},
   "source": [
    "Testa att spara ner en karta"
   ]
  },
  {
   "cell_type": "code",
   "execution_count": 48,
   "metadata": {},
   "outputs": [
    {
     "name": "stdout",
     "output_type": "stream",
     "text": [
      "(1, '466.0699492302033,177.1385008302006,457.24088721972447,221.645110614952,441.76455257529193,242.30447400803763,417.23243954079487,253.2041376375584,416.31603585220006,253.12862935349807,399.0921021772628,238.49496904094616,379.5086212987047,211.0862079135789,375.94183259256823,169.6647597095669,362.26754937854815,138.19109543563923,371.30290314963514,96.12681147025933,404.8259301923955,66.35958816368918,433.5424984815101,70.0030328482622,478.1614805687718,89.80093824773297,493.3114869151789,104.62041743115503,498.7592638966818,112.28435781736277,497.57618667464294,138.08137220323948,498.6053618656588,151.84335466979553,498.6283260428279,169.40468392088388,491.51237362687607,192.35482192004162,489.23594539839667,199.23694054988817,480.7749103282663,207.17190605504817,456.30458259604364,220.29902067807342,466.0699492302033,177.1385008302006,', 1)\n"
     ]
    }
   ],
   "source": [
    "save(ny_karta, cursor)\n",
    "cursor = conn.execute(\"SELECT * FROM CONTINENTS\")\n",
    "rows = cursor.fetchall()\n",
    "for row in rows:\n",
    "    print(row)\n",
    "\n",
    "conn.commit() # Commita till databasen"
   ]
  },
  {
   "cell_type": "markdown",
   "metadata": {},
   "source": [
    "Skapa en funktion som hämtar upp en karta och återskapar kartan"
   ]
  },
  {
   "cell_type": "code",
   "execution_count": 49,
   "metadata": {},
   "outputs": [
    {
     "name": "stdout",
     "output_type": "stream",
     "text": [
      "(1, 1000, 1000, 'Generated_Map', 1, 1, '466.0699492302033,177.1385008302006,457.24088721972447,221.645110614952,441.76455257529193,242.30447400803763,417.23243954079487,253.2041376375584,416.31603585220006,253.12862935349807,399.0921021772628,238.49496904094616,379.5086212987047,211.0862079135789,375.94183259256823,169.6647597095669,362.26754937854815,138.19109543563923,371.30290314963514,96.12681147025933,404.8259301923955,66.35958816368918,433.5424984815101,70.0030328482622,478.1614805687718,89.80093824773297,493.3114869151789,104.62041743115503,498.7592638966818,112.28435781736277,497.57618667464294,138.08137220323948,498.6053618656588,151.84335466979553,498.6283260428279,169.40468392088388,491.51237362687607,192.35482192004162,489.23594539839667,199.23694054988817,480.7749103282663,207.17190605504817,456.30458259604364,220.29902067807342,466.0699492302033,177.1385008302006,', 1, 1, 456.79997652707027, 163.43193527878626, 1)\n",
      "(1, 1000, 1000, 'Generated_Map', 1, 1, '466.0699492302033,177.1385008302006,457.24088721972447,221.645110614952,441.76455257529193,242.30447400803763,417.23243954079487,253.2041376375584,416.31603585220006,253.12862935349807,399.0921021772628,238.49496904094616,379.5086212987047,211.0862079135789,375.94183259256823,169.6647597095669,362.26754937854815,138.19109543563923,371.30290314963514,96.12681147025933,404.8259301923955,66.35958816368918,433.5424984815101,70.0030328482622,478.1614805687718,89.80093824773297,493.3114869151789,104.62041743115503,498.7592638966818,112.28435781736277,497.57618667464294,138.08137220323948,498.6053618656588,151.84335466979553,498.6283260428279,169.40468392088388,491.51237362687607,192.35482192004162,489.23594539839667,199.23694054988817,480.7749103282663,207.17190605504817,456.30458259604364,220.29902067807342,466.0699492302033,177.1385008302006,', 1, 2, 380.4133653761082, 154.06943352065971, 1)\n",
      "(1, 1000, 1000, 'Generated_Map', 1, 1, '466.0699492302033,177.1385008302006,457.24088721972447,221.645110614952,441.76455257529193,242.30447400803763,417.23243954079487,253.2041376375584,416.31603585220006,253.12862935349807,399.0921021772628,238.49496904094616,379.5086212987047,211.0862079135789,375.94183259256823,169.6647597095669,362.26754937854815,138.19109543563923,371.30290314963514,96.12681147025933,404.8259301923955,66.35958816368918,433.5424984815101,70.0030328482622,478.1614805687718,89.80093824773297,493.3114869151789,104.62041743115503,498.7592638966818,112.28435781736277,497.57618667464294,138.08137220323948,498.6053618656588,151.84335466979553,498.6283260428279,169.40468392088388,491.51237362687607,192.35482192004162,489.23594539839667,199.23694054988817,480.7749103282663,207.17190605504817,456.30458259604364,220.29902067807342,466.0699492302033,177.1385008302006,', 1, 3, 478.7805223004209, 167.78923542109465, 1)\n",
      "(1, 1000, 1000, 'Generated_Map', 1, 1, '466.0699492302033,177.1385008302006,457.24088721972447,221.645110614952,441.76455257529193,242.30447400803763,417.23243954079487,253.2041376375584,416.31603585220006,253.12862935349807,399.0921021772628,238.49496904094616,379.5086212987047,211.0862079135789,375.94183259256823,169.6647597095669,362.26754937854815,138.19109543563923,371.30290314963514,96.12681147025933,404.8259301923955,66.35958816368918,433.5424984815101,70.0030328482622,478.1614805687718,89.80093824773297,493.3114869151789,104.62041743115503,498.7592638966818,112.28435781736277,497.57618667464294,138.08137220323948,498.6053618656588,151.84335466979553,498.6283260428279,169.40468392088388,491.51237362687607,192.35482192004162,489.23594539839667,199.23694054988817,480.7749103282663,207.17190605504817,456.30458259604364,220.29902067807342,466.0699492302033,177.1385008302006,', 1, 4, 432.5758629922159, 101.92867913394811, 1)\n",
      "(1, 1000, 1000, 'Generated_Map', 1, 1, '466.0699492302033,177.1385008302006,457.24088721972447,221.645110614952,441.76455257529193,242.30447400803763,417.23243954079487,253.2041376375584,416.31603585220006,253.12862935349807,399.0921021772628,238.49496904094616,379.5086212987047,211.0862079135789,375.94183259256823,169.6647597095669,362.26754937854815,138.19109543563923,371.30290314963514,96.12681147025933,404.8259301923955,66.35958816368918,433.5424984815101,70.0030328482622,478.1614805687718,89.80093824773297,493.3114869151789,104.62041743115503,498.7592638966818,112.28435781736277,497.57618667464294,138.08137220323948,498.6053618656588,151.84335466979553,498.6283260428279,169.40468392088388,491.51237362687607,192.35482192004162,489.23594539839667,199.23694054988817,480.7749103282663,207.17190605504817,456.30458259604364,220.29902067807342,466.0699492302033,177.1385008302006,', 1, 5, 456.3943354951866, 110.25316947222439, 1)\n",
      "(1, 1000, 1000, 'Generated_Map', 1, 1, '466.0699492302033,177.1385008302006,457.24088721972447,221.645110614952,441.76455257529193,242.30447400803763,417.23243954079487,253.2041376375584,416.31603585220006,253.12862935349807,399.0921021772628,238.49496904094616,379.5086212987047,211.0862079135789,375.94183259256823,169.6647597095669,362.26754937854815,138.19109543563923,371.30290314963514,96.12681147025933,404.8259301923955,66.35958816368918,433.5424984815101,70.0030328482622,478.1614805687718,89.80093824773297,493.3114869151789,104.62041743115503,498.7592638966818,112.28435781736277,497.57618667464294,138.08137220323948,498.6053618656588,151.84335466979553,498.6283260428279,169.40468392088388,491.51237362687607,192.35482192004162,489.23594539839667,199.23694054988817,480.7749103282663,207.17190605504817,456.30458259604364,220.29902067807342,466.0699492302033,177.1385008302006,', 1, 6, 410.66575379946534, 99.92005218014833, 1)\n",
      "(1, 1000, 1000, 'Generated_Map', 1, 1, '466.0699492302033,177.1385008302006,457.24088721972447,221.645110614952,441.76455257529193,242.30447400803763,417.23243954079487,253.2041376375584,416.31603585220006,253.12862935349807,399.0921021772628,238.49496904094616,379.5086212987047,211.0862079135789,375.94183259256823,169.6647597095669,362.26754937854815,138.19109543563923,371.30290314963514,96.12681147025933,404.8259301923955,66.35958816368918,433.5424984815101,70.0030328482622,478.1614805687718,89.80093824773297,493.3114869151789,104.62041743115503,498.7592638966818,112.28435781736277,497.57618667464294,138.08137220323948,498.6053618656588,151.84335466979553,498.6283260428279,169.40468392088388,491.51237362687607,192.35482192004162,489.23594539839667,199.23694054988817,480.7749103282663,207.17190605504817,456.30458259604364,220.29902067807342,466.0699492302033,177.1385008302006,', 1, 7, 426.8660051067163, 115.13126045548461, 1)\n",
      "(1, 1000, 1000, 'Generated_Map', 1, 1, '466.0699492302033,177.1385008302006,457.24088721972447,221.645110614952,441.76455257529193,242.30447400803763,417.23243954079487,253.2041376375584,416.31603585220006,253.12862935349807,399.0921021772628,238.49496904094616,379.5086212987047,211.0862079135789,375.94183259256823,169.6647597095669,362.26754937854815,138.19109543563923,371.30290314963514,96.12681147025933,404.8259301923955,66.35958816368918,433.5424984815101,70.0030328482622,478.1614805687718,89.80093824773297,493.3114869151789,104.62041743115503,498.7592638966818,112.28435781736277,497.57618667464294,138.08137220323948,498.6053618656588,151.84335466979553,498.6283260428279,169.40468392088388,491.51237362687607,192.35482192004162,489.23594539839667,199.23694054988817,480.7749103282663,207.17190605504817,456.30458259604364,220.29902067807342,466.0699492302033,177.1385008302006,', 1, 8, 375.94183259256823, 169.6647597095669, 1)\n",
      "(1, 1000, 1000, 'Generated_Map', 1, 1, '466.0699492302033,177.1385008302006,457.24088721972447,221.645110614952,441.76455257529193,242.30447400803763,417.23243954079487,253.2041376375584,416.31603585220006,253.12862935349807,399.0921021772628,238.49496904094616,379.5086212987047,211.0862079135789,375.94183259256823,169.6647597095669,362.26754937854815,138.19109543563923,371.30290314963514,96.12681147025933,404.8259301923955,66.35958816368918,433.5424984815101,70.0030328482622,478.1614805687718,89.80093824773297,493.3114869151789,104.62041743115503,498.7592638966818,112.28435781736277,497.57618667464294,138.08137220323948,498.6053618656588,151.84335466979553,498.6283260428279,169.40468392088388,491.51237362687607,192.35482192004162,489.23594539839667,199.23694054988817,480.7749103282663,207.17190605504817,456.30458259604364,220.29902067807342,466.0699492302033,177.1385008302006,', 1, 9, 498.6283260428279, 169.40468392088388, 1)\n",
      "(1, 1000, 1000, 'Generated_Map', 1, 1, '466.0699492302033,177.1385008302006,457.24088721972447,221.645110614952,441.76455257529193,242.30447400803763,417.23243954079487,253.2041376375584,416.31603585220006,253.12862935349807,399.0921021772628,238.49496904094616,379.5086212987047,211.0862079135789,375.94183259256823,169.6647597095669,362.26754937854815,138.19109543563923,371.30290314963514,96.12681147025933,404.8259301923955,66.35958816368918,433.5424984815101,70.0030328482622,478.1614805687718,89.80093824773297,493.3114869151789,104.62041743115503,498.7592638966818,112.28435781736277,497.57618667464294,138.08137220323948,498.6053618656588,151.84335466979553,498.6283260428279,169.40468392088388,491.51237362687607,192.35482192004162,489.23594539839667,199.23694054988817,480.7749103282663,207.17190605504817,456.30458259604364,220.29902067807342,466.0699492302033,177.1385008302006,', 1, 10, 493.3114869151789, 104.62041743115503, 1)\n",
      "(1, 1000, 1000, 'Generated_Map', 1, 1, '466.0699492302033,177.1385008302006,457.24088721972447,221.645110614952,441.76455257529193,242.30447400803763,417.23243954079487,253.2041376375584,416.31603585220006,253.12862935349807,399.0921021772628,238.49496904094616,379.5086212987047,211.0862079135789,375.94183259256823,169.6647597095669,362.26754937854815,138.19109543563923,371.30290314963514,96.12681147025933,404.8259301923955,66.35958816368918,433.5424984815101,70.0030328482622,478.1614805687718,89.80093824773297,493.3114869151789,104.62041743115503,498.7592638966818,112.28435781736277,497.57618667464294,138.08137220323948,498.6053618656588,151.84335466979553,498.6283260428279,169.40468392088388,491.51237362687607,192.35482192004162,489.23594539839667,199.23694054988817,480.7749103282663,207.17190605504817,456.30458259604364,220.29902067807342,466.0699492302033,177.1385008302006,', 1, 11, 371.30290314963514, 96.12681147025933, 1)\n",
      "(1, 1000, 1000, 'Generated_Map', 1, 1, '466.0699492302033,177.1385008302006,457.24088721972447,221.645110614952,441.76455257529193,242.30447400803763,417.23243954079487,253.2041376375584,416.31603585220006,253.12862935349807,399.0921021772628,238.49496904094616,379.5086212987047,211.0862079135789,375.94183259256823,169.6647597095669,362.26754937854815,138.19109543563923,371.30290314963514,96.12681147025933,404.8259301923955,66.35958816368918,433.5424984815101,70.0030328482622,478.1614805687718,89.80093824773297,493.3114869151789,104.62041743115503,498.7592638966818,112.28435781736277,497.57618667464294,138.08137220323948,498.6053618656588,151.84335466979553,498.6283260428279,169.40468392088388,491.51237362687607,192.35482192004162,489.23594539839667,199.23694054988817,480.7749103282663,207.17190605504817,456.30458259604364,220.29902067807342,466.0699492302033,177.1385008302006,', 1, 12, 478.1614805687718, 89.80093824773297, 1)\n",
      "(1, 1000, 1000, 'Generated_Map', 1, 1, '466.0699492302033,177.1385008302006,457.24088721972447,221.645110614952,441.76455257529193,242.30447400803763,417.23243954079487,253.2041376375584,416.31603585220006,253.12862935349807,399.0921021772628,238.49496904094616,379.5086212987047,211.0862079135789,375.94183259256823,169.6647597095669,362.26754937854815,138.19109543563923,371.30290314963514,96.12681147025933,404.8259301923955,66.35958816368918,433.5424984815101,70.0030328482622,478.1614805687718,89.80093824773297,493.3114869151789,104.62041743115503,498.7592638966818,112.28435781736277,497.57618667464294,138.08137220323948,498.6053618656588,151.84335466979553,498.6283260428279,169.40468392088388,491.51237362687607,192.35482192004162,489.23594539839667,199.23694054988817,480.7749103282663,207.17190605504817,456.30458259604364,220.29902067807342,466.0699492302033,177.1385008302006,', 1, 13, 441.76455257529193, 242.30447400803763, 1)\n",
      "(1, 1000, 1000, 'Generated_Map', 1, 1, '466.0699492302033,177.1385008302006,457.24088721972447,221.645110614952,441.76455257529193,242.30447400803763,417.23243954079487,253.2041376375584,416.31603585220006,253.12862935349807,399.0921021772628,238.49496904094616,379.5086212987047,211.0862079135789,375.94183259256823,169.6647597095669,362.26754937854815,138.19109543563923,371.30290314963514,96.12681147025933,404.8259301923955,66.35958816368918,433.5424984815101,70.0030328482622,478.1614805687718,89.80093824773297,493.3114869151789,104.62041743115503,498.7592638966818,112.28435781736277,497.57618667464294,138.08137220323948,498.6053618656588,151.84335466979553,498.6283260428279,169.40468392088388,491.51237362687607,192.35482192004162,489.23594539839667,199.23694054988817,480.7749103282663,207.17190605504817,456.30458259604364,220.29902067807342,466.0699492302033,177.1385008302006,', 1, 14, 399.0921021772628, 238.49496904094616, 1)\n",
      "['466.0699492302033', '177.1385008302006', '457.24088721972447', '221.645110614952', '441.76455257529193', '242.30447400803763', '417.23243954079487', '253.2041376375584', '416.31603585220006', '253.12862935349807', '399.0921021772628', '238.49496904094616', '379.5086212987047', '211.0862079135789', '375.94183259256823', '169.6647597095669', '362.26754937854815', '138.19109543563923', '371.30290314963514', '96.12681147025933', '404.8259301923955', '66.35958816368918', '433.5424984815101', '70.0030328482622', '478.1614805687718', '89.80093824773297', '493.3114869151789', '104.62041743115503', '498.7592638966818', '112.28435781736277', '497.57618667464294', '138.08137220323948', '498.6053618656588', '151.84335466979553', '498.6283260428279', '169.40468392088388', '491.51237362687607', '192.35482192004162', '489.23594539839667', '199.23694054988817', '480.7749103282663', '207.17190605504817', '456.30458259604364', '220.29902067807342', '466.0699492302033', '177.1385008302006', '']\n"
     ]
    }
   ],
   "source": [
    "def load(karta_id, cursor): \n",
    "    cursor.execute('''SELECT * FROM maps\n",
    "                JOIN continents ON maps.id = continents.id_map\n",
    "                JOIN villages ON continents.id = villages.id_cont\n",
    "                WHERE maps.id = ?\n",
    "                ;\n",
    "                ''', (karta_id, )) #Hämta alla kartan med karta_id\n",
    "    \n",
    "    data = cursor.fetchall()\n",
    "    for data in data:\n",
    "        print(data)\n",
    "        \n",
    "    amount_continents = data[4]\n",
    "    list_continents = []\n",
    "    for i in range(0, amount_continents): #Hämta kontinenterna\n",
    "        list_continents.append(unstringify(data[6 + i])) #Avserilisera kontinenterna\n",
    "    for i in range(6 + amount_continents, len(data)): #Hämta kontinenter\n",
    "        pass\n",
    "    \n",
    "    #return Map(amount_continents, 100, 0, 0, 50, (data[1], data[2]), data[3], create_new=False, ) #Återskapa kartan\n",
    "\n",
    "laddad_karta = load(1, cursor)\n",
    "\n",
    "\n"
   ]
  },
  {
   "cell_type": "code",
   "execution_count": 85,
   "metadata": {},
   "outputs": [
    {
     "name": "stdout",
     "output_type": "stream",
     "text": [
      "['466.0699492302033', '177.1385008302006', '457.24088721972447', '221.645110614952', '441.76455257529193', '242.30447400803763', '417.23243954079487', '253.2041376375584', '416.31603585220006', '253.12862935349807', '399.0921021772628', '238.49496904094616', '379.5086212987047', '211.0862079135789', '375.94183259256823', '169.6647597095669', '362.26754937854815', '138.19109543563923', '371.30290314963514', '96.12681147025933', '404.8259301923955', '66.35958816368918', '433.5424984815101', '70.0030328482622', '478.1614805687718', '89.80093824773297', '493.3114869151789', '104.62041743115503', '498.7592638966818', '112.28435781736277', '497.57618667464294', '138.08137220323948', '498.6053618656588', '151.84335466979553', '498.6283260428279', '169.40468392088388', '491.51237362687607', '192.35482192004162', '489.23594539839667', '199.23694054988817', '480.7749103282663', '207.17190605504817', '456.30458259604364', '220.29902067807342', '466.0699492302033', '177.1385008302006', '']\n"
     ]
    },
    {
     "data": {
      "text/plain": [
       "<Classes.map.Map at 0x207c31084a0>"
      ]
     },
     "execution_count": 85,
     "metadata": {},
     "output_type": "execute_result"
    }
   ],
   "source": [
    "from Classes.continent import Continent\n",
    "from Classes.map import Map\n",
    "\n",
    "#Olle load\n",
    "def load(karta_id, cursor): \n",
    "    continent_cords_list = [] #Every position is a list with all the continents positions\n",
    "    villages_lists = []\n",
    "\n",
    "    cursor.execute('''UPDATE maps \n",
    "                  SET name = 'loaded_map' \n",
    "                  WHERE id = ?;''', (karta_id,))\n",
    "    conn.commit() \n",
    "\n",
    "    cursor.execute('''SELECT COUNT(*) \n",
    "                      FROM continents \n",
    "                      WHERE id_map = ?;''', (karta_id,))\n",
    "    number_of_continents = cursor.fetchone()[0]  # Count of continents\n",
    "    \n",
    "    cursor.execute('''SELECT * \n",
    "                  FROM continents \n",
    "                  WHERE id_map = ?;''', (karta_id,))#Get all continents\n",
    "    \n",
    "    continents = cursor.fetchall()\n",
    "\n",
    "    for row in continents:\n",
    "        continent_cords_list.append(unstringify(row[1]))  #Now we have all continent cordinates \n",
    "\n",
    "    for continent_id in range (1, number_of_continents+1):\n",
    "        temp_list = []\n",
    "\n",
    "        cursor.execute('''SELECT * \n",
    "                      FROM villages \n",
    "                      WHERE id_cont = ?;''', (continent_id,))\n",
    "        villages = cursor.fetchall()\n",
    "        for rows in villages:\n",
    "            x = rows[1]\n",
    "            y = rows[2]\n",
    "            xy = (x,y)\n",
    "            temp_list.append(xy)\n",
    "        villages_lists.append(temp_list)\n",
    "\n",
    "    #Now make continent list containing actual continent instances\n",
    "    continent_list = []\n",
    "    for i in range (number_of_continents):\n",
    "        temp_cont = Continent((1000,1000), 0, 0, 0 , 0, point_list = continent_cords_list[i], content = [None, villages_lists[i], None, None], LoadMapp=True)\n",
    "        continent_list.append(temp_cont)\n",
    "\n",
    "    #Select info about the map\n",
    "    cursor.execute('''SELECT * \n",
    "                      FROM maps \n",
    "                      WHERE id = ?;''', (karta_id,))\n",
    "    map_info = cursor.fetchone()  # Get the map information \n",
    "    \n",
    "    loaded_map = Map(number_of_continents, 2, 2, 2, 2,  create_new=False, realm_name=\"Loaded Map\")\n",
    "    loaded_map.continent_list = continent_list\n",
    "\n",
    "    return loaded_map\n",
    "\n",
    "\n",
    "load(1, cursor)\n"
   ]
  },
  {
   "cell_type": "markdown",
   "metadata": {},
   "source": [
    "Testa att spara och hämta en karta"
   ]
  },
  {
   "cell_type": "code",
   "execution_count": 88,
   "metadata": {},
   "outputs": [
    {
     "name": "stdout",
     "output_type": "stream",
     "text": [
      "['466.0699492302033', '177.1385008302006', '457.24088721972447', '221.645110614952', '441.76455257529193', '242.30447400803763', '417.23243954079487', '253.2041376375584', '416.31603585220006', '253.12862935349807', '399.0921021772628', '238.49496904094616', '379.5086212987047', '211.0862079135789', '375.94183259256823', '169.6647597095669', '362.26754937854815', '138.19109543563923', '371.30290314963514', '96.12681147025933', '404.8259301923955', '66.35958816368918', '433.5424984815101', '70.0030328482622', '478.1614805687718', '89.80093824773297', '493.3114869151789', '104.62041743115503', '498.7592638966818', '112.28435781736277', '497.57618667464294', '138.08137220323948', '498.6053618656588', '151.84335466979553', '498.6283260428279', '169.40468392088388', '491.51237362687607', '192.35482192004162', '489.23594539839667', '199.23694054988817', '480.7749103282663', '207.17190605504817', '456.30458259604364', '220.29902067807342', '466.0699492302033', '177.1385008302006', '']\n",
      "(1000, 1000)\n"
     ]
    },
    {
     "data": {
      "application/vnd.jupyter.widget-view+json": {
       "model_id": "25abac48ed5449458bc2fc309807b2da",
       "version_major": 2,
       "version_minor": 0
      },
      "text/plain": [
       "Output()"
      ]
     },
     "metadata": {},
     "output_type": "display_data"
    }
   ],
   "source": [
    "from draw_PNG import draw_map\n",
    "\n",
    "laddad_karta = load(1, cursor)\n",
    "print(laddad_karta.mapsize)\n",
    "\n",
    "\n",
    "draw_map(laddad_karta, \"loaded_map.png\")\n",
    "\n",
    "output = widgets.Output()\n",
    "with output: # Visa upp kartan\n",
    "    image = open(\"loaded_map.png\", \"rb\").read() \n",
    "    \n",
    "    image_widget = widgets.Image(\n",
    "        value=image,\n",
    "        format='png',\n",
    "        width=1000,            \n",
    "        height=1000\n",
    "    )\n",
    "    display(image_widget)\n",
    "display(output)"
   ]
  },
  {
   "cell_type": "markdown",
   "metadata": {},
   "source": [
    "Testa att spara och hämta flera kartor"
   ]
  }
 ],
 "metadata": {
  "kernelspec": {
   "display_name": "Python 3",
   "language": "python",
   "name": "python3"
  },
  "language_info": {
   "codemirror_mode": {
    "name": "ipython",
    "version": 3
   },
   "file_extension": ".py",
   "mimetype": "text/x-python",
   "name": "python",
   "nbconvert_exporter": "python",
   "pygments_lexer": "ipython3",
   "version": "3.12.4"
  }
 },
 "nbformat": 4,
 "nbformat_minor": 2
}
