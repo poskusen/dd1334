{
 "cells": [
  {
   "cell_type": "markdown",
   "metadata": {},
   "source": [
    "Laboration för kursen DD1334\n",
    "Använder SQL-lite för att kommunicera med en databas som sparar data från vårt projekt i kartgenerering"
   ]
  },
  {
   "cell_type": "markdown",
   "metadata": {},
   "source": [
    "Först måste vi hämta hem map klasser från github och installera dependencies"
   ]
  },
  {
   "cell_type": "code",
   "execution_count": null,
   "metadata": {},
   "outputs": [],
   "source": [
    "! pip install depend #fixa sen\n",
    "%pip install ipywidgets\n",
    "! git clone git@github.com:poskusen/dd1334.git"
   ]
  },
  {
   "cell_type": "markdown",
   "metadata": {},
   "source": [
    "Vi börjar med att generera en karta som ska sparas."
   ]
  },
  {
   "cell_type": "code",
   "execution_count": 1,
   "metadata": {},
   "outputs": [
    {
     "data": {
      "application/vnd.jupyter.widget-view+json": {
       "model_id": "712d6fc3982f4e759295311dde52c6f7",
       "version_major": 2,
       "version_minor": 0
      },
      "text/plain": [
       "Output()"
      ]
     },
     "metadata": {},
     "output_type": "display_data"
    }
   ],
   "source": [
    "from Classes.map import Map\n",
    "import ipywidgets as widgets\n",
    "from IPython.display import display, clear_output\n",
    "from draw_PNG import draw_map\n",
    "ny_karta = Map(5, 100, 0, 0 ,100, realm_name= 'test_karta') # Skapa en karta med bara byar\n",
    "\n",
    "draw_map(ny_karta)\n",
    "output = widgets.Output()\n",
    "with output: # Visa upp kartan\n",
    "    image = open(\"test_image.png\", \"rb\").read() \n",
    "    \n",
    "    image_widget = widgets.Image(\n",
    "        value=image,\n",
    "        format='png',\n",
    "        width=1000,            \n",
    "        height=1000\n",
    "    )\n",
    "    display(image_widget)\n",
    "display(output)\n"
   ]
  },
  {
   "cell_type": "markdown",
   "metadata": {},
   "source": [
    "Sen connectar vi till databasen och skapar ett nytt table för kartor, continenter och allt content på kontinenterna.\n",
    "\n",
    "Här uppstår ett stort problem som vi undviker genom att använda pickle.\n",
    "För att spara vår representation av kontinenten så måste vi spara en lista med punkter. Detta blir väldigt tricky då SQL databaser är baserade på att man sparar 1 värde och inte en lista med värden. Något vi undviker när vi bara serialiserar hela objektet. \n",
    "En lösning hade varit skapa ett table per lista och därmed en per kontinent, men det är väldigt bökigt och förstör hela poängen med databasen. Och eftersom vi aldrig vill ha enbart en eller flera punkter från kontinent-listan finns det ingen poäng med att skapa ett helt nytt table, då vi aldrig hämtar enskilda värden från listan. Därför kan man se listan snarare som ett objekt, än en lista. Därför serialiserar vi listan och sparar den sen, allt annat hade varit galenskap.\n",
    "\n",
    "För att ändå visa att det går gör vi det för städerna.\n",
    "Vi sparar även bara städerna för floder och berg hade inneburit dubbelarbete, och visar egentligen ingenting.\n",
    "\n",
    "Den enda fördelen med att köra sql är att det går att hämta kontinenter med rätt 'size' från databasen, dvs att jämföra storleken på serilizationen av points_list."
   ]
  },
  {
   "cell_type": "code",
   "execution_count": 2,
   "metadata": {},
   "outputs": [
    {
     "data": {
      "text/plain": [
       "<sqlite3.Cursor at 0x1c1f308b7c0>"
      ]
     },
     "execution_count": 2,
     "metadata": {},
     "output_type": "execute_result"
    }
   ],
   "source": [
    "import sqlite3, csv\n",
    "\n",
    "conn = sqlite3.connect('database.db')\n",
    "cursor = conn.cursor()\n",
    "cursor.execute('PRAGMA foreign_keys = ON;')\n",
    "try:\n",
    "    cursor.execute('DROP TABLE maps')\n",
    "    cursor.execute('DROP TABLE continents')\n",
    "    cursor.execute('DROP TABLE villages')\n",
    "except:\n",
    "    pass\n",
    "\n",
    "cursor.execute('''CREATE TABLE maps(\n",
    "               id INT PRIMARY KEY AUTOINCREMENT,\n",
    "               map_size_x INT DEFAULT 1000,\n",
    "               map_size_y INT DEFAULT 1000,\n",
    "               name VARCHAR(255) NOT NULL,\n",
    "               amount_continents INT NOT NULL\n",
    "               );''') # Skapa ett table för kartor\n",
    "\n",
    "cursor.execute('''CREATE TABLE continents(\n",
    "                id INT PRIMARY KEY AUTOINCREMENT,\n",
    "                points_serialised VARCHAR(65535),\n",
    "                id_map INT NOT NULL,\n",
    "                FOREIGN KEY (id_map) REFERENCES maps(id)\n",
    "               );''') # Skapa ett table för kontintenter\n",
    "\n",
    "\n",
    "cursor.execute('''CREATE TABLE villages(\n",
    "                id INT PRIMARY KEY AUTOINCREMENT,\n",
    "                x INT NOT NULL,\n",
    "                y INT NOT NULL,\n",
    "                id_cont INT NOT NULL,\n",
    "                FOREIGN KEY (id_cont) REFERENCES continents(id)\n",
    "               );''') # Skapa ett table för byar\n",
    "\n"
   ]
  },
  {
   "cell_type": "markdown",
   "metadata": {},
   "source": [
    "Stäng databas om det behövs"
   ]
  },
  {
   "cell_type": "code",
   "execution_count": 10,
   "metadata": {},
   "outputs": [],
   "source": [
    "conn.close()"
   ]
  },
  {
   "cell_type": "markdown",
   "metadata": {},
   "source": [
    "Skapa en enkel serialiserings algoritm som kan spara listor och en som kan återskapa innehållet och göra det till en lista"
   ]
  },
  {
   "cell_type": "code",
   "execution_count": 3,
   "metadata": {},
   "outputs": [
    {
     "name": "stdout",
     "output_type": "stream",
     "text": [
      "5,5,6,6,7,7,\n",
      "['5', '5', '6', '6', '7', '7', '']\n",
      "[(5, 5), (6, 6), (7, 7)]\n"
     ]
    }
   ],
   "source": [
    "def stringify(continent_list):\n",
    "    ser = ''\n",
    "    for point in continent_list:\n",
    "        str_point = str(point)\n",
    "        str_point = str_point.strip('()')\n",
    "        str_point = str_point.replace(' ','')\n",
    "        ser +=  str_point + ','\n",
    "    return ser\n",
    "\n",
    "    \n",
    "\n",
    "def unstringify(ser_cont):\n",
    "    continent_list = []\n",
    "    lista_nummer = ser_cont.split(',')\n",
    "    print(lista_nummer)\n",
    "    for i in range(0, len(lista_nummer) - 1, 2):\n",
    "        continent_list.append((int(lista_nummer[i]), int(lista_nummer[i + 1])))\n",
    "    return continent_list\n",
    "\n",
    "lista = [(5,5), (6,6), (7,7)] # Testa funktionerna\n",
    "string_lista = stringify(lista)\n",
    "print(string_lista)\n",
    "print(unstringify(string_lista))\n"
   ]
  },
  {
   "cell_type": "markdown",
   "metadata": {},
   "source": [
    "Skapa funktion som extraherar kontinenter, karta och byar och serialisera kontinent_listorna samt lägger till dem och kartan i databasen"
   ]
  },
  {
   "cell_type": "code",
   "execution_count": 8,
   "metadata": {},
   "outputs": [],
   "source": [
    "def save(map, cursor):\n",
    "    amount_continents = map.get_continent_amount()\n",
    "    name_map = map.get_realm_name()\n",
    "    (x_size, y_size) = map.get_mapsize()\n",
    "    cursor.execute('''INSERT INTO maps (map_size_x, map_size_y, name, amount_continents)\n",
    "                    VALUES(?,?,?,?)\n",
    "                   ''', (x_size, y_size, name_map, amount_continents))\n",
    "    continents = map.get_continents()\n",
    "    map_id = cursor.lastrowid\n",
    "    for cont in continents:\n",
    "        points_list = cont.get_point_list()\n",
    "        ser_points = stringify(points_list)\n",
    "        cursor.execute('''INSERT INTO continents (points_serialised, id_map)\n",
    "                    VALUES(?,?)\n",
    "                    ''', (ser_points, map_id))\n",
    "        villages = cont.get_cities_list()\n",
    "        cont_id = cursor.lastrowid\n",
    "        for village in villages:\n",
    "            cursor.execute('''INSERT INTO villages (x, y, id_cont)\n",
    "                        VALUES(?,?,?)\n",
    "                           ''', (village[0], village[1], cont_id))"
   ]
  },
  {
   "cell_type": "markdown",
   "metadata": {},
   "source": [
    "Testa att spara ner en karta"
   ]
  },
  {
   "cell_type": "code",
   "execution_count": 9,
   "metadata": {},
   "outputs": [
    {
     "ename": "IntegrityError",
     "evalue": "FOREIGN KEY constraint failed",
     "output_type": "error",
     "traceback": [
      "\u001b[1;31m---------------------------------------------------------------------------\u001b[0m",
      "\u001b[1;31mIntegrityError\u001b[0m                            Traceback (most recent call last)",
      "Cell \u001b[1;32mIn[9], line 1\u001b[0m\n\u001b[1;32m----> 1\u001b[0m \u001b[43msave\u001b[49m\u001b[43m(\u001b[49m\u001b[43mny_karta\u001b[49m\u001b[43m,\u001b[49m\u001b[43m \u001b[49m\u001b[43mcursor\u001b[49m\u001b[43m)\u001b[49m\n\u001b[0;32m      2\u001b[0m conn\u001b[38;5;241m.\u001b[39mcommit() \u001b[38;5;66;03m# Commita till databasen\u001b[39;00m\n",
      "Cell \u001b[1;32mIn[8], line 13\u001b[0m, in \u001b[0;36msave\u001b[1;34m(map, cursor)\u001b[0m\n\u001b[0;32m     11\u001b[0m points_list \u001b[38;5;241m=\u001b[39m cont\u001b[38;5;241m.\u001b[39mget_point_list()\n\u001b[0;32m     12\u001b[0m ser_points \u001b[38;5;241m=\u001b[39m stringify(points_list)\n\u001b[1;32m---> 13\u001b[0m \u001b[43mcursor\u001b[49m\u001b[38;5;241;43m.\u001b[39;49m\u001b[43mexecute\u001b[49m\u001b[43m(\u001b[49m\u001b[38;5;124;43m'''\u001b[39;49m\u001b[38;5;124;43mINSERT INTO continents (points_serialised, id_map)\u001b[39;49m\n\u001b[0;32m     14\u001b[0m \u001b[38;5;124;43m            VALUES(?,?)\u001b[39;49m\n\u001b[0;32m     15\u001b[0m \u001b[38;5;124;43m            \u001b[39;49m\u001b[38;5;124;43m'''\u001b[39;49m\u001b[43m,\u001b[49m\u001b[43m \u001b[49m\u001b[43m(\u001b[49m\u001b[43mser_points\u001b[49m\u001b[43m,\u001b[49m\u001b[43m \u001b[49m\u001b[43mmap_id\u001b[49m\u001b[43m)\u001b[49m\u001b[43m)\u001b[49m\n\u001b[0;32m     16\u001b[0m villages \u001b[38;5;241m=\u001b[39m cont\u001b[38;5;241m.\u001b[39mget_cities_list()\n\u001b[0;32m     17\u001b[0m cont_id \u001b[38;5;241m=\u001b[39m cursor\u001b[38;5;241m.\u001b[39mlastrowid\n",
      "\u001b[1;31mIntegrityError\u001b[0m: FOREIGN KEY constraint failed"
     ]
    }
   ],
   "source": [
    "save(ny_karta, cursor)\n",
    "conn.commit() # Commita till databasen\n"
   ]
  },
  {
   "cell_type": "markdown",
   "metadata": {},
   "source": [
    "Skapa en funktion som hämtar och återskapar kartan"
   ]
  },
  {
   "cell_type": "code",
   "execution_count": null,
   "metadata": {},
   "outputs": [],
   "source": [
    "def load(cursor, map_name = None):\n",
    "    if map_name == None: #Hämta alla kartor\n",
    "        cursor.execute('''SELECT * FROM maps''')\n",
    "\n"
   ]
  },
  {
   "cell_type": "markdown",
   "metadata": {},
   "source": [
    "Testa att spara och hämta en karta"
   ]
  },
  {
   "cell_type": "code",
   "execution_count": null,
   "metadata": {},
   "outputs": [],
   "source": []
  },
  {
   "cell_type": "markdown",
   "metadata": {},
   "source": [
    "Testa att spara och hämta flera kartor"
   ]
  }
 ],
 "metadata": {
  "kernelspec": {
   "display_name": "Python 3",
   "language": "python",
   "name": "python3"
  },
  "language_info": {
   "codemirror_mode": {
    "name": "ipython",
    "version": 3
   },
   "file_extension": ".py",
   "mimetype": "text/x-python",
   "name": "python",
   "nbconvert_exporter": "python",
   "pygments_lexer": "ipython3",
   "version": "3.10.11"
  }
 },
 "nbformat": 4,
 "nbformat_minor": 2
}
