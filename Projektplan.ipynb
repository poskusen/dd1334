{
  "cells": [
    {
      "cell_type": "markdown",
      "metadata": {
        "id": "Cjvi2nNE6QMa"
      },
      "source": [
        "\n",
        "# Projektplan\n",
        "\n",
        "\n",
        "*   Skriva matematiska algoritmer för avstånd och täthet\n",
        "*   Hur man ritar en landmassa\n",
        "*   randomisera/justera själv\n",
        "*   Bestämma datastrukten, olika objekt, ska hela kartan vara ett objekt\n",
        "*   Vilka objekt ska ingå i datastrukturen\n",
        "*   Implentera serilization för att spara gamla kartor som man vill ändra senare eller skicka till andra\n",
        "*   Vilka objekt som ska vara med på kartan: städer, kontinter, land, floder, berg, byar, sjöar, namn, biomer, kungariken, frågetecken.\n",
        "\n",
        "\n",
        "\n",
        "\n",
        "\n",
        "\n",
        "\n"
      ]
    },
    {
      "cell_type": "code",
      "execution_count": 4,
      "metadata": {
        "colab": {
          "base_uri": "https://localhost:8080/"
        },
        "id": "_Bo1lYzTHFV5",
        "outputId": "ace491f5-ff87-4a39-9b41-fc5ea25f8b9d"
      },
      "outputs": [
        {
          "name": "stdout",
          "output_type": "stream",
          "text": [
            "Original data (a dict structure):\n",
            "{'Lakes': [(0, 1), (0, 2)], 'Cities': [(0, 2), (1, 3), (4, 5)], 'Mountains': [(0, 5), (9, 8)]}\n",
            "\n",
            "Serialized data (can be written and loaded from file):\n",
            "b'\\x80\\x04\\x95T\\x00\\x00\\x00\\x00\\x00\\x00\\x00}\\x94(\\x8c\\x05Lakes\\x94]\\x94(K\\x00K\\x01\\x86\\x94K\\x00K\\x02\\x86\\x94e\\x8c\\x06Cities\\x94]\\x94(h\\x04K\\x01K\\x03\\x86\\x94K\\x04K\\x05\\x86\\x94e\\x8c\\tMountains\\x94]\\x94(K\\x00K\\x05\\x86\\x94K\\tK\\x08\\x86\\x94eu.'\n",
            "\n",
            "Check that the file is there:\n",
            "\n",
            "Unserialized data (read from file):\n",
            "{'Lakes': [(0, 1), (0, 2)], 'Cities': [(0, 2), (1, 3), (4, 5)], 'Mountains': [(0, 5), (9, 8)]}\n",
            "\n",
            "[(0, 1), (0, 2)]\n"
          ]
        }
      ],
      "source": [
        "import pickle\n",
        "\n",
        "#Here's an example dict\n",
        "map = { 'Lakes': [(0,1),(0,2)], 'Cities': [(0,2),(1,3),(4,5)], 'Mountains': [(0,5),(9,8)] }\n",
        "\n",
        "print(\"Original data (a dict structure):\")\n",
        "print(map)\n",
        "\n",
        "#Use dumps to convert the object to a serialized string\n",
        "serial_grades = pickle.dumps( map )\n",
        "\n",
        "print()\n",
        "print(\"Serialized data (can be written and loaded from file):\")\n",
        "print(serial_grades)\n",
        "f01 = open(\"mydata.pickle\", \"wb\")\n",
        "f01.write(serial_grades)\n",
        "f01.close()\n",
        "\n",
        "print()\n",
        "print(\"Check that the file is there:\")\n",
        "\n",
        "\n",
        "f02 = open(\"mydata.pickle\", \"rb\")\n",
        "serial_grades_read = f02.read()\n",
        "f02.close()\n",
        "\n",
        "#Use loads to de-serialize an object\n",
        "received_grades = pickle.loads( serial_grades_read )\n",
        "\n",
        "print()\n",
        "print(\"Unserialized data (read from file):\")\n",
        "print(received_grades)\n",
        "print()\n",
        "\n",
        "print(map['Lakes'])"
      ]
    }
  ],
  "metadata": {
    "colab": {
      "provenance": []
    },
    "kernelspec": {
      "display_name": "Python 3",
      "name": "python3"
    },
    "language_info": {
      "codemirror_mode": {
        "name": "ipython",
        "version": 3
      },
      "file_extension": ".py",
      "mimetype": "text/x-python",
      "name": "python",
      "nbconvert_exporter": "python",
      "pygments_lexer": "ipython3",
      "version": "3.10.11"
    }
  },
  "nbformat": 4,
  "nbformat_minor": 0
}
