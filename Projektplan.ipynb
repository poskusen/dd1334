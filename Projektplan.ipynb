{
  "nbformat": 4,
  "nbformat_minor": 0,
  "metadata": {
    "colab": {
      "provenance": []
    },
    "kernelspec": {
      "name": "python3",
      "display_name": "Python 3"
    },
    "language_info": {
      "name": "python"
    }
  },
  "cells": [
    {
      "cell_type": "markdown",
      "source": [
        "\n",
        "# Projektplan\n",
        "\n",
        "\n",
        "*   Skriva matematiska algoritmer för avstånd och täthet\n",
        "*   Hur man ritar en landmassa\n",
        "*   randomisera/justera själv\n",
        "*   Bestämma datastrukten, olika objekt, ska hela kartan vara ett objekt\n",
        "*   Vilka objekt ska ingå\n",
        "\n",
        "\n",
        "\n",
        "\n",
        "\n",
        "\n",
        "\n",
        "\n"
      ],
      "metadata": {
        "id": "Cjvi2nNE6QMa"
      }
    },
    {
      "cell_type": "code",
      "execution_count": null,
      "metadata": {
        "colab": {
          "base_uri": "https://localhost:8080/"
        },
        "id": "_Bo1lYzTHFV5",
        "outputId": "ace491f5-ff87-4a39-9b41-fc5ea25f8b9d"
      },
      "outputs": [
        {
          "output_type": "stream",
          "name": "stdout",
          "text": [
            "Original data (a dict structure):\n",
            "{'Johan': [1, 4, 19], 'Bob': 72, 'Charles': 87}\n",
            "\n",
            "Serialized data (can be written and loaded from file):\n",
            "b'\\x80\\x04\\x95+\\x00\\x00\\x00\\x00\\x00\\x00\\x00}\\x94(\\x8c\\x05Johan\\x94]\\x94(K\\x01K\\x04K\\x13e\\x8c\\x03Bob\\x94KH\\x8c\\x07Charles\\x94KWu.'\n",
            "\n",
            "Check that the file is there:\n",
            "mydata.pickle  sample_data\n",
            "\n",
            "Unserialized data (read from file):\n",
            "{'Johan': [1, 4, 19], 'Bob': 72, 'Charles': 87}\n",
            "\n",
            "[1, 4, 19]\n"
          ]
        }
      ],
      "source": [
        "import pickle\n",
        "\n",
        "#Here's an example dict\n",
        "grades = { 'Johan': [1, 4, 19], 'Bob': 72, 'Charles': 87 }\n",
        "\n",
        "print(\"Original data (a dict structure):\")\n",
        "print(grades)\n",
        "\n",
        "#Use dumps to convert the object to a serialized string\n",
        "serial_grades = pickle.dumps( grades )\n",
        "\n",
        "print()\n",
        "print(\"Serialized data (can be written and loaded from file):\")\n",
        "print(serial_grades)\n",
        "f01 = open(\"mydata.pickle\", \"wb\")\n",
        "f01.write(serial_grades)\n",
        "f01.close()\n",
        "\n",
        "print()\n",
        "print(\"Check that the file is there:\")\n",
        "!ls\n",
        "\n",
        "f02 = open(\"mydata.pickle\", \"rb\")\n",
        "serial_grades_read = f02.read()\n",
        "f02.close()\n",
        "\n",
        "#Use loads to de-serialize an object\n",
        "received_grades = pickle.loads( serial_grades_read )\n",
        "\n",
        "print()\n",
        "print(\"Unserialized data (read from file):\")\n",
        "print(received_grades)\n",
        "print()\n",
        "\n",
        "print(grades['Johan'])"
      ]
    }
  ]
}