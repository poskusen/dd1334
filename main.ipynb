{
 "cells": [
  {
   "cell_type": "code",
   "execution_count": null,
   "metadata": {},
   "outputs": [],
   "source": [
    "%pip install ipywidgets"
   ]
  },
  {
   "cell_type": "code",
   "execution_count": 1,
   "metadata": {},
   "outputs": [
    {
     "data": {
      "application/vnd.jupyter.widget-view+json": {
       "model_id": "a1f14d2a992f42ebbf0f0ffc9e30a368",
       "version_major": 2,
       "version_minor": 0
      },
      "text/plain": [
       "HBox(children=(IntSlider(value=500, description='Image Size:', max=1000, min=100, step=100), IntSlider(value=5…"
      ]
     },
     "metadata": {},
     "output_type": "display_data"
    },
    {
     "data": {
      "application/vnd.jupyter.widget-view+json": {
       "model_id": "0ad0762eab954555ab08059402fb1d97",
       "version_major": 2,
       "version_minor": 0
      },
      "text/plain": [
       "HBox(children=(IntSlider(value=5, description='#Cities:', max=10), IntSlider(value=5, description='#Cities:', …"
      ]
     },
     "metadata": {},
     "output_type": "display_data"
    },
    {
     "data": {
      "application/vnd.jupyter.widget-view+json": {
       "model_id": "4407aea03a3248749501e0cddbe77bad",
       "version_major": 2,
       "version_minor": 0
      },
      "text/plain": [
       "Button(button_style='success', description='Generate Image', style=ButtonStyle())"
      ]
     },
     "metadata": {},
     "output_type": "display_data"
    },
    {
     "data": {
      "application/vnd.jupyter.widget-view+json": {
       "model_id": "817f07bab2d8432f8c06b782e6bbc6c2",
       "version_major": 2,
       "version_minor": 0
      },
      "text/plain": [
       "Output()"
      ]
     },
     "metadata": {},
     "output_type": "display_data"
    }
   ],
   "source": [
    "import ipywidgets as widgets\n",
    "from IPython.display import display, clear_output\n",
    "\n",
    "# Create sliders\n",
    "slider = widgets.IntSlider(\n",
    "    min=100,     # minimum value\n",
    "    max=1000,    # maximum value\n",
    "    value=500,   # default value\n",
    "    step=100,    # step size\n",
    "    description='Image Size:',\n",
    "    continuous_update=True\n",
    ")\n",
    "\n",
    "slider2 = widgets.IntSlider(\n",
    "    min=0,     # minimum value\n",
    "    max=10,    # maximum value\n",
    "    value=5,   # default value\n",
    "    step=1,    # step size\n",
    "    description='#Cities:',\n",
    "    continuous_update=True\n",
    ")\n",
    "\n",
    "# Create a button widget\n",
    "button = widgets.Button(\n",
    "    description='Generate Image',\n",
    "    button_style='success'  # 'success', 'info', 'warning', 'danger', or ''\n",
    ")\n",
    "\n",
    "# Create an output widget to hold the image\n",
    "output = widgets.Output()\n",
    "\n",
    "# Function to handle button click event\n",
    "def on_button_click(b):\n",
    "    with output:\n",
    "        clear_output(wait=True)  # Clear previous image\n",
    "        num_cities = slider2.value\n",
    "        print(f\"num_cities: {num_cities}\")\n",
    "\n",
    "\n",
    "        draw_map()  # Create new image\n",
    "        image = open(\"test_image.png\", \"rb\").read()  # Open and read the image file\n",
    "\n",
    "        # Create an image widget using the current slider value for dimensions\n",
    "        image_widget = widgets.Image(\n",
    "            value=image,\n",
    "            format='png',\n",
    "            width=slider.value,\n",
    "            height=slider.value\n",
    "        )\n",
    "        display(image_widget)\n",
    "\n",
    "# Link the button click to the function\n",
    "button.on_click(on_button_click)\n",
    "\n",
    "# Use an HBox to arrange the sliders horizontally\n",
    "hbox1 = widgets.HBox([slider, slider2, slider2, slider2])\n",
    "hbox2 = widgets.HBox([slider2, slider2, slider2, slider2])\n",
    "\n",
    "# Display the sliders in HBox, button, and output widget\n",
    "display(hbox1, hbox2, button, output)\n"
   ]
  }
 ],
 "metadata": {
  "kernelspec": {
   "display_name": "Python 3",
   "language": "python",
   "name": "python3"
  },
  "language_info": {
   "codemirror_mode": {
    "name": "ipython",
    "version": 3
   },
   "file_extension": ".py",
   "mimetype": "text/x-python",
   "name": "python",
   "nbconvert_exporter": "python",
   "pygments_lexer": "ipython3",
   "version": "3.10.11"
  }
 },
 "nbformat": 4,
 "nbformat_minor": 2
}
